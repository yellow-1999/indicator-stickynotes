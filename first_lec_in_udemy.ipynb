{
  "nbformat": 4,
  "nbformat_minor": 0,
  "metadata": {
    "colab": {
      "name": "first lec in udemy ",
      "provenance": [],
      "authorship_tag": "ABX9TyMJ0hBd8y8AO5kxhW0JKHai",
      "include_colab_link": true
    },
    "kernelspec": {
      "name": "python3",
      "display_name": "Python 3"
    },
    "language_info": {
      "name": "python"
    }
  },
  "cells": [
    {
      "cell_type": "markdown",
      "metadata": {
        "id": "view-in-github",
        "colab_type": "text"
      },
      "source": [
        "<a href=\"https://colab.research.google.com/github/yellow-1999/indicator-stickynotes/blob/master/first_lec_in_udemy.ipynb\" target=\"_parent\"><img src=\"https://colab.research.google.com/assets/colab-badge.svg\" alt=\"Open In Colab\"/></a>"
      ]
    },
    {
      "cell_type": "code",
      "metadata": {
        "colab": {
          "base_uri": "https://localhost:8080/"
        },
        "id": "97lJH_HJC9Om",
        "outputId": "96d6cf11-e4f7-4c35-9b4f-7fec84b0827d"
      },
      "source": [
        "iname=input(\"enter your name : \")\n",
        "iname1=input(\"enter last name : \")\n",
        "print(\"Hello :) \"+iname+\"  \"+iname1)\n",
        " "
      ],
      "execution_count": 2,
      "outputs": [
        {
          "output_type": "stream",
          "text": [
            "enter your name : ath\n",
            "enter last name : eer\n",
            "Hello :) ath  eer\n"
          ],
          "name": "stdout"
        }
      ]
    },
    {
      "cell_type": "markdown",
      "metadata": {
        "id": "1VLLDN1uE1ow"
      },
      "source": [
        "here , if we want calculate area need to make the input in Integer type \n",
        "also the var if area \n",
        "if i use comma , to print --> print(\"the rectangle area =   \", r) no need to convert the r to str if need use + print(\"the rectangle area =   \"+str( r))\n",
        "\n"
      ]
    },
    {
      "cell_type": "code",
      "metadata": {
        "colab": {
          "base_uri": "https://localhost:8080/"
        },
        "id": "3NooxbY-D0EV",
        "outputId": "5b1c731c-a812-429f-dd8a-5736d0592213"
      },
      "source": [
        "w=int(input(\"enter w : \"))\n",
        "l=int(input(\"enter l : \"))\n",
        "r=w*l\n",
        "print(\"the rectangle area =   \", r)\n"
      ],
      "execution_count": 7,
      "outputs": [
        {
          "output_type": "stream",
          "text": [
            "enter w : 3\n",
            "enter l : 2\n",
            "the rectangle area =    6\n"
          ],
          "name": "stdout"
        }
      ]
    },
    {
      "cell_type": "code",
      "metadata": {
        "colab": {
          "base_uri": "https://localhost:8080/"
        },
        "id": "FodG2XjqGEhQ",
        "outputId": "8d3017c6-e973-4f70-a1d2-76f0a1c58dcc"
      },
      "source": [
        "num=int(input(\"enter any number :::  \"))\n",
        "if num>10:\n",
        "  print(\"n is > 10\")\n",
        "elif num <10:\n",
        "  print(\"hey num < 10\")\n",
        "else:\n",
        "  print(\"go to sleep :< \")"
      ],
      "execution_count": 13,
      "outputs": [
        {
          "output_type": "stream",
          "text": [
            "enter any number :::  8\n",
            "hey num < 10\n"
          ],
          "name": "stdout"
        }
      ]
    },
    {
      "cell_type": "markdown",
      "metadata": {
        "id": "PA7gAz7BH9t2"
      },
      "source": [
        "even and odd numbers ^^"
      ]
    },
    {
      "cell_type": "code",
      "metadata": {
        "colab": {
          "base_uri": "https://localhost:8080/"
        },
        "id": "BHAWfasyHWHa",
        "outputId": "8eba7ffd-72d0-495e-ac8c-eeb124c6134a"
      },
      "source": [
        "i=int(input(\"number : \"))\n",
        "\n",
        "if i%2==0:\n",
        "  print(\"even\")\n",
        "else:\n",
        "  print(\"odd\")"
      ],
      "execution_count": 15,
      "outputs": [
        {
          "output_type": "stream",
          "text": [
            "number : 8\n",
            "even\n"
          ],
          "name": "stdout"
        }
      ]
    },
    {
      "cell_type": "code",
      "metadata": {
        "colab": {
          "base_uri": "https://localhost:8080/"
        },
        "id": "_Edb8wrdIJqH",
        "outputId": "59b43037-bc3d-4f30-b792-27bacdb52884"
      },
      "source": [
        "#print if num true of false without use if statment ok!\n",
        "#Example--> if num >1000 \n",
        "\n",
        "m=int(input(\"enter nummber \"))\n",
        "print(m>1000)"
      ],
      "execution_count": 16,
      "outputs": [
        {
          "output_type": "stream",
          "text": [
            "enter nummber 60\n",
            "False\n"
          ],
          "name": "stdout"
        }
      ]
    },
    {
      "cell_type": "code",
      "metadata": {
        "colab": {
          "base_uri": "https://localhost:8080/"
        },
        "id": "09zRon06Jw9O",
        "outputId": "e0d8a32a-b3bf-4ed7-c5f5-9e284fbc9db7"
      },
      "source": [
        "n=int(input(\"enetr number : \"))\n",
        "d=17-n\n",
        "\n",
        "if d>17:\n",
        "  print(\"result of the diffrence is =  \",d,\" ---> \",\"and the double = \",d*2)\n",
        "else:\n",
        "  print(\"the diff is < 17  = \",d)"
      ],
      "execution_count": 23,
      "outputs": [
        {
          "output_type": "stream",
          "text": [
            "enetr number : 3\n",
            "the diff is < 17  =  14\n"
          ],
          "name": "stdout"
        }
      ]
    },
    {
      "cell_type": "code",
      "metadata": {
        "colab": {
          "base_uri": "https://localhost:8080/"
        },
        "id": "3Dv4IaPaMLXu",
        "outputId": "d830e4ba-c21b-4b47-f4f3-3ce35d94c35e"
      },
      "source": [
        "def s_of_three (a,b,c):\n",
        "  \n",
        "  sum=a+b+c\n",
        "  if a==b and b==c:\n",
        "    print(\"the numbers are equal :! so the double of it are=\")\n",
        "    print(sum*3)\n",
        "  else:\n",
        "    print(\"the sum only =\",sum) \n",
        "\n",
        "\n",
        "x=1\n",
        "y=1\n",
        "z=1\n",
        "\n",
        "print(\"the result =\",s_of_three (x,y,z))"
      ],
      "execution_count": 28,
      "outputs": [
        {
          "output_type": "stream",
          "text": [
            "the numbers are equal :! so the double of it are=\n",
            "9\n",
            "the result = None\n"
          ],
          "name": "stdout"
        }
      ]
    },
    {
      "cell_type": "code",
      "metadata": {
        "colab": {
          "base_uri": "https://localhost:8080/"
        },
        "id": "VzHqgcPwOcEl",
        "outputId": "62a2cec0-d8be-47b9-9ca4-fdbe87d01da7"
      },
      "source": [
        "for i in range(1,10):\n",
        "  print(\"=\",i)\n",
        "print(\"------------------\")\n",
        "for i in range(4):\n",
        "  print(\"=\",i)\n",
        "(\"------------------\")\n",
        "print(\"python\"*3)"
      ],
      "execution_count": 36,
      "outputs": [
        {
          "output_type": "stream",
          "text": [
            "= 1\n",
            "= 2\n",
            "= 3\n",
            "= 4\n",
            "= 5\n",
            "= 6\n",
            "= 7\n",
            "= 8\n",
            "= 9\n",
            "------------------\n",
            "= 0\n",
            "= 1\n",
            "= 2\n",
            "= 3\n"
          ],
          "name": "stdout"
        }
      ]
    },
    {
      "cell_type": "code",
      "metadata": {
        "id": "1nObdDwXPmbx"
      },
      "source": [
        ""
      ],
      "execution_count": null,
      "outputs": []
    }
  ]
}